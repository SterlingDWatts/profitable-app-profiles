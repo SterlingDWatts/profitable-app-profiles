{
 "cells": [
  {
   "cell_type": "markdown",
   "metadata": {},
   "source": [
    "# <span id='top'>Profitable App Profiles for the App Store and Google Play Markets</span>\n",
    "\n",
    "---\n",
    "\n",
    "## Index\n",
    "\n",
    "- [Introduction](#introduction)\n",
    "  - [Business Problem](#problem)\n",
    "  - [Solution](#solution)\n",
    "- [Initial Exploration](#initial-exploration)\n",
    "  - [csv_to_list Helper](#csv-to-list-helper)\n",
    "  - [explore_data Helper](#explore-data-helper)\n",
    "  - [First Look at Databases](#first-look)\n",
    "- [Data Cleaning](#cleaning)\n",
    "  - [Remove Row with Missing Data](#remove-row)\n",
    "  - [View Duplicate Count](#view-duplicates)\n",
    "  - [get_max_values Helper](#get-max-values-helper)\n",
    "  - [remove_duplicates Helper](#remove-duplicates-helper)\n",
    "  - [Remove Duplicates](#remove-android-duplicates)\n",
    "  - [is_english Helper](#is-english-helper)\n",
    "  - [english_apps_filter Helper](#english-apps-filter-helper)\n",
    "  - [Remove Non English Apps](#remove-non-english-apps)\n",
    "  - [format_price Helper](#format-price-helper)\n",
    "  - [get_free_apps Helper](#get-free-apps-helper)\n",
    "  - [Remove Non Free Apps](#remove-non-free-apps)\n",
    "- [Data Analysis](#data-analysis)\n",
    "  - [Market Strategy](#market-strategy)\n",
    "  - [Determining the Best Genre](#determining-the-best-genre)\n",
    "  - [freq_table Helper](#freq-table-helper)\n",
    "  - [create_sorted_tuple_list Helper](#create-sorted-tuple-list-helper)\n",
    "  - [Most iOS Apps By Genre](#most-ios-apps-by-genre)\n",
    "  - [Most Android Apps By Category](#most-android-apps-by-category)\n",
    "  - [Most Android Apps By Genre](#most-android-apps-by-genre)\n",
    "\n",
    "---\n",
    "\n",
    "## <span id='introduction'>Introduction</span>\n",
    "\n",
    "### <span id='problem'>Business Problem</span>\n",
    "\n",
    "We are intending on building a new app that will be free to users and will contain adds. Our goal is to maximize our revenue with this app. Due to our method of monitization, the app will make more money the more users use the app and engage with the adds. We would like to discover what types of apps have the most amount of users so that we can have better information when we are deciding what type of app we would like to make.\n",
    "\n",
    "### <span id='solution'>Solution</span>\n",
    "\n",
    "Investigate a datasets of current apps on both the App Store and the Google Play Markets. Determine what types of apps would be the best option to create.\n",
    "\n",
    "<a href='#top'>Back To Top</a>\n",
    "\n",
    "---\n",
    "\n",
    "## <span id='initial-exploration'>Initial Exploration</span>\n",
    "\n",
    "### <span id='csv-to-list-helper'>csv_to_list `Helper`</span>\n",
    "\n",
    "**DESCRIPTION**  \n",
    "This function takes in a csv and returns list versions of the header and the body\n",
    "\n",
    "**PARAMETERS**  \n",
    "`csv` | string | Path to the csv file\n",
    "\n",
    "**RETURNS**  \n",
    "list of strings | The header row of the dataset  \n",
    "list of lists | The data from the csv minus the headers\n"
   ]
  },
  {
   "cell_type": "code",
   "execution_count": 1,
   "metadata": {},
   "outputs": [],
   "source": [
    "from csv import reader\n",
    "\n",
    "\n",
    "def csv_to_list(csv):\n",
    "    opened_file = open(csv)\n",
    "    read_file = reader(opened_file)\n",
    "    new_list = list(read_file)\n",
    "    return new_list[0], new_list[1:]\n"
   ]
  },
  {
   "cell_type": "markdown",
   "metadata": {},
   "source": [
    "### <span id='explore-data-helper'>explore_data `Helper`</span>\n",
    "\n",
    "**DESCRIPTION**  \n",
    "This function prints information about the dataset. The rows to be printed can be determined with the start and stop parameters and there is an optional row_and_column_count option to determine wether or not to display the row and column counts as well.\n",
    "\n",
    "**PARAMETERS**  \n",
    "`dataset` | list of lists | the dataset desired to print information about  \n",
    "`start` | int | the starting row to print (inclusive)  \n",
    "`end` | int | the ending row to stop printing at (exclusive)  \n",
    "`row_and_column_count` | bool | _optional_ default is False. If set to True, it will print the number of rows and columns\n",
    "\n",
    "**RETURNS**  \n",
    "N/A\n"
   ]
  },
  {
   "cell_type": "code",
   "execution_count": 2,
   "metadata": {},
   "outputs": [],
   "source": [
    "def explore_data(dataset, start, end, row_and_column_count=False):\n",
    "    dataset_slice = dataset[start:end]\n",
    "    for row in dataset_slice:\n",
    "        print(row)\n",
    "\n",
    "    if row_and_column_count:\n",
    "        print('Number of rows:', len(dataset))\n",
    "        print('Number of columns:', len(dataset[0]))\n"
   ]
  },
  {
   "cell_type": "markdown",
   "metadata": {},
   "source": [
    "### <span id='first-look'>First Look at Databases</span>\n",
    "\n",
    "For this exploration two datasets from Kaggle are being used. For more information on the datasets, they can be found here [Apple Store Dataset](https://www.kaggle.com/lava18/google-play-store-apps) and [Google Play Store Dataset](https://www.kaggle.com/lava18/google-play-store-apps).\n",
    "\n",
    "Each database is read from it's file, changed into a list of list and then basic information is displayed for a first look.\n"
   ]
  },
  {
   "cell_type": "code",
   "execution_count": 3,
   "metadata": {},
   "outputs": [
    {
     "name": "stdout",
     "output_type": "stream",
     "text": [
      "Apple data:\n",
      "['', 'id', 'track_name', 'size_bytes', 'currency', 'price', 'rating_count_tot', 'rating_count_ver', 'user_rating', 'user_rating_ver', 'ver', 'cont_rating', 'prime_genre', 'sup_devices.num', 'ipadSc_urls.num', 'lang.num', 'vpp_lic']\n",
      "\n",
      "\n",
      "['1', '281656475', 'PAC-MAN Premium', '100788224', 'USD', '3.99', '21292', '26', '4', '4.5', '6.3.5', '4+', 'Games', '38', '5', '10', '1']\n",
      "['2', '281796108', 'Evernote - stay organized', '158578688', 'USD', '0', '161065', '26', '4', '3.5', '8.2.2', '4+', 'Productivity', '37', '5', '23', '1']\n",
      "['3', '281940292', 'WeatherBug - Local Weather, Radar, Maps, Alerts', '100524032', 'USD', '0', '188583', '2822', '3.5', '4.5', '5.0.0', '4+', 'Weather', '37', '5', '3', '1']\n",
      "Number of rows: 7197\n",
      "Number of columns: 17\n"
     ]
    }
   ],
   "source": [
    "[apple_header, apple_data] = csv_to_list('./raw-data/apple-store.csv')\n",
    "print('Apple data:')\n",
    "print(apple_header)\n",
    "print('\\n')\n",
    "explore_data(apple_data, 0, 3, True)\n"
   ]
  },
  {
   "cell_type": "code",
   "execution_count": 4,
   "metadata": {},
   "outputs": [
    {
     "name": "stdout",
     "output_type": "stream",
     "text": [
      "Android data:\n",
      "['App', 'Category', 'Rating', 'Reviews', 'Size', 'Installs', 'Type', 'Price', 'Content Rating', 'Genres', 'Last Updated', 'Current Ver', 'Android Ver']\n",
      "\n",
      "\n",
      "['Photo Editor & Candy Camera & Grid & ScrapBook', 'ART_AND_DESIGN', '4.1', '159', '19M', '10,000+', 'Free', '0', 'Everyone', 'Art & Design', 'January 7, 2018', '1.0.0', '4.0.3 and up']\n",
      "['Coloring book moana', 'ART_AND_DESIGN', '3.9', '967', '14M', '500,000+', 'Free', '0', 'Everyone', 'Art & Design;Pretend Play', 'January 15, 2018', '2.0.0', '4.0.3 and up']\n",
      "['U Launcher Lite – FREE Live Cool Themes, Hide Apps', 'ART_AND_DESIGN', '4.7', '87510', '8.7M', '5,000,000+', 'Free', '0', 'Everyone', 'Art & Design', 'August 1, 2018', '1.2.4', '4.0.3 and up']\n",
      "Number of rows: 10841\n",
      "Number of columns: 13\n"
     ]
    }
   ],
   "source": [
    "\n",
    "[android_header, android_data] = csv_to_list(\n",
    "    './raw-data/google-play-store.csv'\n",
    ")\n",
    "print(\"Android data:\")\n",
    "print(android_header)\n",
    "print('\\n')\n",
    "explore_data(android_data, 0, 3, True)\n"
   ]
  },
  {
   "cell_type": "markdown",
   "metadata": {},
   "source": [
    "<a href='#top'>Back To Top</a>\n",
    "\n",
    "---\n",
    "\n",
    "## <span id='cleaning'>Data Cleaning</span>\n",
    "\n",
    "### <span id='remove-row'>Remove Row with Missing Data</span>\n",
    "\n",
    "One of the rows in the Google Play Dataset is missing information in one of the rows. More information on that can be found here [Discussion](https://www.kaggle.com/lava18/google-play-store-apps/discussion/66015). This row will be removed to avoid issues with missing data.\n"
   ]
  },
  {
   "cell_type": "code",
   "execution_count": 5,
   "metadata": {},
   "outputs": [
    {
     "name": "stdout",
     "output_type": "stream",
     "text": [
      "['Life Made WI-Fi Touchscreen Photo Frame', '1.9', '19', '3.0M', '1,000+', 'Free', '0', 'Everyone', '', 'February 11, 2018', '1.0.19', '4.0 and up']\n"
     ]
    }
   ],
   "source": [
    "print(android_data[10472])\n",
    "android_data_without_missing = android_data[:]\n",
    "del android_data_without_missing[10472]\n"
   ]
  },
  {
   "cell_type": "markdown",
   "metadata": {},
   "source": [
    "### <span id='view-duplicates'>View Duplicate Count</span>\n",
    "\n",
    "There are a number of entries that are duplicated in the dataset. After inspection, it turns out that the only difference has to do with the number of reviews. Only the duplicate entry with the most reviews will be kept (this is under the assumption that it is the most recent entry).\n"
   ]
  },
  {
   "cell_type": "code",
   "execution_count": 6,
   "metadata": {},
   "outputs": [
    {
     "name": "stdout",
     "output_type": "stream",
     "text": [
      "Number of unique apps: 9659\n",
      "Number of duplicate apps: 1181\n"
     ]
    }
   ],
   "source": [
    "unique_apps = []\n",
    "duplicate_apps = []\n",
    "\n",
    "for app in android_data_without_missing:\n",
    "    app_name = app[0]\n",
    "\n",
    "    if app_name in unique_apps:\n",
    "        duplicate_apps.append(app_name)\n",
    "    else:\n",
    "        unique_apps.append(app_name)\n",
    "\n",
    "print('Number of unique apps:', len(unique_apps))\n",
    "print('Number of duplicate apps:', len(duplicate_apps))\n"
   ]
  },
  {
   "cell_type": "markdown",
   "metadata": {},
   "source": [
    "### <span id='get-max-values-helper'>get_max_values `Helper`</span>\n",
    "\n",
    "**DESCRIPTION**  \n",
    "This function takes in a dataset, a name index, and a value index and returns a dictionary with the maximum values for each unique item in the name index column.\n",
    "\n",
    "1. It creates an empty dictionary that will be returned at the end\n",
    "2. It loops over the dataset\n",
    "   - If the name of the current item in the loop is not already in the database or (if it is) if the stored value is lower than the current value in the loop\n",
    "     1. It stores the current value in the dictionary using the current name as a key\n",
    "3. It returns the dictionary\n",
    "\n",
    "**PARAMETERS**  \n",
    "`dataset` | list of lists | The dataset to find max values in  \n",
    "`name_index` | int | The index of the column being used to group max values to find  \n",
    "`value_index` | int | The index of the column for the values that will be used to determine the largest value for each unique item in the name_index column\n",
    "\n",
    "**RETURNS**  \n",
    "dict | a dictionary where each key is a unique value from the name_index column and the value is the highest value of one of those items from the database\n"
   ]
  },
  {
   "cell_type": "code",
   "execution_count": 18,
   "metadata": {},
   "outputs": [],
   "source": [
    "def get_max_values(dataset, name_idx, value_idx):\n",
    "    max_values = {}\n",
    "\n",
    "    for row in dataset:\n",
    "        name = row[name_idx]\n",
    "        value = float(row[value_idx])\n",
    "\n",
    "        if name not in max_values or max_values[name] < value:\n",
    "            max_values[name] = value\n",
    "\n",
    "    return max_values\n"
   ]
  },
  {
   "cell_type": "markdown",
   "metadata": {},
   "source": [
    "### <span id='remove-duplicates-helper'>remove_duplicates `Helper`</span>\n",
    "\n",
    "**DESCRIPTION**  \n",
    "This function takes in a takes in a dataset, name index, and value index and returns a filtered version of the original dataset with no duplicates in the name index column, keeping the duplicate with the highest value in the value index.\n",
    "\n",
    "1. Create an empty no_duplicates list\n",
    "2. Create an empty already_added list\n",
    "3. Create a max_values dict using the <a href='#get-max-values-helper'>get_max_values</a> helper\n",
    "4. Loop through each row in the dataset\n",
    "   - if the current item's value matches the max value of the item with the same key in the max_values dict AND the name is not in the already_added list\n",
    "     1. Add the row to the no_duplicates list\n",
    "     2. Add the name to the already_added list\n",
    "5. Return the no_duplicates list\n",
    "\n",
    "**PARAMETERS**  \n",
    "`dataset` | list of lists | The dataset to filter out duplicate values from  \n",
    "`name_index` | int | The index of the column with duplicate names  \n",
    "`value_index` | int | The index of the column for the values that will be used to determine largest value\n",
    "\n",
    "**RETURNS**  \n",
    "dataset | a filtered version of the original dataset with no duplicates in the name index column, keeping the duplicate with the highest value in the value index\n"
   ]
  },
  {
   "cell_type": "code",
   "execution_count": 48,
   "metadata": {},
   "outputs": [],
   "source": [
    "def remove_duplicates(dataset, name_idx, value_idx):\n",
    "    no_duplicates = []\n",
    "    already_added = []\n",
    "    max_values = get_max_values(dataset, name_idx, value_idx)\n",
    "\n",
    "    for row in dataset:\n",
    "        name = row[name_idx]\n",
    "        value = row[value_idx]\n",
    "\n",
    "        if max_values[name] == value and name not in already_added:\n",
    "            no_duplicates.append(row)\n",
    "            already_added.append(name)\n",
    "\n",
    "    return no_duplicates\n"
   ]
  },
  {
   "cell_type": "markdown",
   "metadata": {},
   "source": [
    "### <span id='remove-android-duplicates'>Remove Duplicates</span>\n",
    "\n",
    "In order to not have data skewed by apps with multiple rows of information, duplicate apps are removed from the Android Database using the <a href='#remove-duplicates-helper'>remove_duplicates</a> helper function.\n"
   ]
  },
  {
   "cell_type": "code",
   "execution_count": 49,
   "metadata": {},
   "outputs": [],
   "source": [
    "android_clean = remove_duplicates(android_data_without_missing, 0, 3)"
   ]
  },
  {
   "cell_type": "markdown",
   "metadata": {},
   "source": [
    "### <span id='is-english-helper'>is_english `Helper`</span>\n",
    "\n",
    "**DESCRIPTION**  \n",
    "This function returns a boolean indicating wether or not the given string contains equal to or fewer than three characters whose ASCII value is higher than 127.\n",
    "\n",
    "**PARAMETERS**  \n",
    "`str` | string | the string to check the number of 'foreign' characters\n",
    "\n",
    "**RETURNS**  \n",
    "bool | indicating if the given string contains equal to or fewer than three characters whose ASCII value is higher than 127\n"
   ]
  },
  {
   "cell_type": "code",
   "execution_count": 8,
   "metadata": {},
   "outputs": [],
   "source": [
    "def is_english(str):\n",
    "    foreign_count = 0\n",
    "    for char in str:\n",
    "        if ord(char) > 127:\n",
    "            foreign_count += 1\n",
    "\n",
    "    return foreign_count <= 3\n"
   ]
  },
  {
   "cell_type": "markdown",
   "metadata": {},
   "source": [
    "### <span id='english-apps-filter-helper'>english_apps_filter `Helper`</span>\n",
    "\n",
    "**DESCRIPTION**  \n",
    "This function takes in a dataset and a column index and returns a filtered version of the dataset where the strings in the indexed column contain no more then 2 characters with an ASCII value greater than 127\n",
    "\n",
    "1. Create an emtpy english_apps list\n",
    "   - For each row in the database\n",
    "   - If the string in the current row of the indexed column 'is in english' using the <a href='#is-english-helper'>is_english</a> helper\n",
    "     1. Add the row to the english_apps list\n",
    "2. Return the english_apps list\n",
    "\n",
    "**PARAMETERS**  \n",
    "`dataset` | list of lists | The dataset to filter  \n",
    "`name_column` | int | The index of the column to check the characters to determine if the strings are 'in english'  \n",
    "\n",
    "**RETURNS**  \n",
    "list of lists | Filtered version of the dataset"
   ]
  },
  {
   "cell_type": "code",
   "execution_count": 9,
   "metadata": {},
   "outputs": [],
   "source": [
    "def english_apps_filter(dataset, name_column):\n",
    "    english_apps = []\n",
    "\n",
    "    for app in dataset:\n",
    "        app_name = app[name_column]\n",
    "        if is_english(app_name):\n",
    "            english_apps.append(app)\n",
    "\n",
    "    return english_apps\n"
   ]
  },
  {
   "cell_type": "markdown",
   "metadata": {},
   "source": [
    "### <span id='remove-non-english-apps'>Remove Non English Apps</span>\n",
    "\n",
    "Use helper functions to remove non english apps from both datasets\n"
   ]
  },
  {
   "cell_type": "code",
   "execution_count": 10,
   "metadata": {},
   "outputs": [
    {
     "name": "stdout",
     "output_type": "stream",
     "text": [
      "9614\n"
     ]
    }
   ],
   "source": [
    "android_apps_english = english_apps_filter(android_clean, 0)\n",
    "\n",
    "print(len(android_apps_english))\n"
   ]
  },
  {
   "cell_type": "code",
   "execution_count": 11,
   "metadata": {},
   "outputs": [
    {
     "name": "stdout",
     "output_type": "stream",
     "text": [
      "6183\n"
     ]
    }
   ],
   "source": [
    "ios_apps_english = english_apps_filter(apple_data, 2)\n",
    "\n",
    "print(len(ios_apps_english))\n"
   ]
  },
  {
   "cell_type": "markdown",
   "metadata": {},
   "source": [
    "### <span id='format-price-helper'>format_price `Helper`</span>\n",
    "\n",
    "**DESCRIPTION**  \n",
    "This function takes in a price in string format, removes the dollar sign, converts it into a float and returns the float\n",
    "\n",
    "**PARAMETERS**  \n",
    "`price` | string | a price in string format that may or may not contain a dollar symbol\n",
    "\n",
    "**RETURNS**  \n",
    "float | Converted version of the string\n"
   ]
  },
  {
   "cell_type": "code",
   "execution_count": 12,
   "metadata": {},
   "outputs": [],
   "source": [
    "def format_price(price):\n",
    "    price = price.replace('$', '')\n",
    "    return float(price)\n"
   ]
  },
  {
   "cell_type": "markdown",
   "metadata": {},
   "source": [
    "### <span id='get-free-apps-helper'>get_free_apps `Helper`</span>\n",
    "\n",
    "**DESCRIPTION**  \n",
    "This function takes in a dataset and a column index and returns a filtered dataset that only contains the 'free' apps\n",
    "\n",
    "**PARAMETERS**  \n",
    "`dataset` | list of lists | The dataset to be filtered  \n",
    "`price_column` | int | The column containing the price of the app\n",
    "\n",
    "**RETURNS**  \n",
    "list of lists | A filtered version of the dataset containing only the 'free' apps\n"
   ]
  },
  {
   "cell_type": "code",
   "execution_count": null,
   "metadata": {},
   "outputs": [],
   "source": [
    "def get_free_apps(dataset, price_column):\n",
    "    free_apps = []\n",
    "\n",
    "    for app in dataset:\n",
    "        price = format_price(app[price_column])\n",
    "        if (price == 0):\n",
    "            free_apps.append(app)\n",
    "\n",
    "    return free_apps\n"
   ]
  },
  {
   "cell_type": "markdown",
   "metadata": {},
   "source": [
    "### <span id='remove-non-free-apps'>Remove Non Free Apps<span>\n",
    "\n",
    "Use the helper functions to filter both the iOS and Andriod datasets so that they only contain free apps."
   ]
  },
  {
   "cell_type": "code",
   "execution_count": 13,
   "metadata": {},
   "outputs": [
    {
     "name": "stdout",
     "output_type": "stream",
     "text": [
      "8864\n",
      "3222\n"
     ]
    }
   ],
   "source": [
    "andriod_free = get_free_apps(android_apps_english, 7)\n",
    "ios_free = get_free_apps(ios_apps_english, 5)\n",
    "\n",
    "print(len(andriod_free))\n",
    "print(len(ios_free))\n"
   ]
  },
  {
   "cell_type": "markdown",
   "metadata": {},
   "source": [
    "<a href='#top'>Back To Top</a>\n",
    "\n",
    "---\n",
    "\n",
    "## <span id='data-analysis'>Data Analysis<span>\n",
    "\n",
    "### <span id='market-strategy'>Market Strategy</span>\n",
    "\n",
    "In order to minimize risk and reduce time to market the following strategy is being considered.\n",
    "\n",
    "1. Analyze applications to determine the best entry point into the market.\n",
    "2. Build an MVP for Android and launch it on the Google Play Store.\n",
    "   - By launching in only one market, we are able to keep development costs low while we determine what works well and iterate on that\n",
    "3. Assess the MVP and how it is doing and increment or pivot.\n",
    "4. If the app is profitable at six months, we will invest in building an iOS version and launching it on the App Store\n",
    "\n",
    "### <span id='determining-the-best-genre'>Determining the Best Genre</span>\n",
    "\n",
    "In order to build a succussful app it will be important to look at the existing data and determine what genre is most favorable to create a new app in. A good first place to look is at total number of apps in each category to see where what areas are popular to develop in.\n",
    "\n",
    "### <span id='freq-table-helper'>freq_table `Helper`</span>\n",
    "\n",
    "**DESCRIPTION**  \n",
    "This function takes in a dataset and an index and returns a dictionary where each key is a unique entry in the column and the value is the amount of times that entry is in that column\n",
    "\n",
    "**PARAMETERS**  \n",
    "`dataset` | List of lists | the dataset being used to find out the frequency of items in a column  \n",
    "`index` | int | The index of the column to find the frequency of items within\n",
    "\n",
    "**RETURNS**  \n",
    "dict | a dictionary where the keys are each of the unique values in the indexed column and the value is the amount of times that value appears in that column\n"
   ]
  },
  {
   "cell_type": "code",
   "execution_count": 14,
   "metadata": {},
   "outputs": [],
   "source": [
    "def freq_table(dataset, index):\n",
    "    table = {}\n",
    "\n",
    "    for row in dataset:\n",
    "        item = row[index]\n",
    "\n",
    "        if item in table:\n",
    "            table[item] += 1\n",
    "        else:\n",
    "            table[item] = 1\n",
    "\n",
    "    return table\n"
   ]
  },
  {
   "cell_type": "markdown",
   "metadata": {},
   "source": [
    "### <span id='create-sorted-tuple-list-helper'>create_sorted_tuple_list `Helper`</span>\n",
    "\n",
    "**DESCRIPTION**\n",
    "This function takes in a dictionary and a callback function and returns a sorted tuple list where the second value in the tuple is a dictionary key and the first value is the value associated with that key.\n",
    "\n",
    "**PARAMETERS**  \n",
    "`table` | dict | The dictionary to convert to a sorted tuple list  \n",
    "`cb` | function | The function to create a tuple\n",
    "\n",
    "**RETURNS**  \n",
    "sorted tuple list | A sorted list of tuples where the second value in the tuple is a dictionary key and the first value is the value\n"
   ]
  },
  {
   "cell_type": "code",
   "execution_count": null,
   "metadata": {},
   "outputs": [],
   "source": [
    "def create_sorted_tuple_list(table, cb):\n",
    "    new_list = []\n",
    "\n",
    "    for key in table:\n",
    "        new_tuple = cb(table, key)\n",
    "        new_list.append(new_tuple)\n",
    "\n",
    "    return sorted(new_list, reverse=True)\n"
   ]
  },
  {
   "cell_type": "markdown",
   "metadata": {},
   "source": [
    "### <span id='display-table-helper'>display_table `Helper`</span>\n",
    "\n",
    "**DESCRIPTION**  \n",
    "This function takes in a dataset and an index, creates a list with the frequency of each item in the index, sorts it, and prints the results a row at a time\n",
    "\n",
    "**PARAMETERS**  \n",
    "`dataset` | list of lists | The datasets to see the frequency of items in a column  \n",
    "`index` | int | The column that is being analyzed\n",
    "\n",
    "**RETURNS**  \n",
    "N/A\n"
   ]
  },
  {
   "cell_type": "code",
   "execution_count": 53,
   "metadata": {},
   "outputs": [],
   "source": [
    "def display_table(dataset, index):\n",
    "    table = freq_table(dataset, index)\n",
    "\n",
    "    def create_tuple(table, key):\n",
    "        return (table[key], key)\n",
    "\n",
    "    table_sorted = create_sorted_tuple_list(table, create_tuple)\n",
    "\n",
    "    for entry in table_sorted:\n",
    "        print(entry[1], ':', entry[0])\n"
   ]
  },
  {
   "cell_type": "markdown",
   "metadata": {},
   "source": [
    "### <span id='most-ios-apps-by-genre'>Most iOS Apps By Genre</span>\n"
   ]
  },
  {
   "cell_type": "code",
   "execution_count": 15,
   "metadata": {},
   "outputs": [
    {
     "name": "stdout",
     "output_type": "stream",
     "text": [
      "Games : 1874\n",
      "Entertainment : 254\n",
      "Photo & Video : 160\n",
      "Education : 118\n",
      "Social Networking : 106\n",
      "Shopping : 84\n",
      "Utilities : 81\n",
      "Sports : 69\n",
      "Music : 66\n",
      "Health & Fitness : 65\n",
      "Productivity : 56\n",
      "Lifestyle : 51\n",
      "News : 43\n",
      "Travel : 40\n",
      "Finance : 36\n",
      "Weather : 28\n",
      "Food & Drink : 26\n",
      "Reference : 18\n",
      "Business : 17\n",
      "Book : 14\n",
      "Navigation : 6\n",
      "Medical : 6\n",
      "Catalogs : 4\n"
     ]
    }
   ],
   "source": [
    "display_table(ios_free, 12)\n"
   ]
  },
  {
   "cell_type": "markdown",
   "metadata": {},
   "source": [
    "### <span id='most-android-apps-by-category'>Most Android Apps By Category</span>\n"
   ]
  },
  {
   "cell_type": "code",
   "execution_count": 52,
   "metadata": {},
   "outputs": [
    {
     "name": "stdout",
     "output_type": "stream",
     "text": [
      "FAMILY : 1676\n",
      "GAME : 862\n",
      "TOOLS : 750\n",
      "BUSINESS : 407\n",
      "LIFESTYLE : 346\n",
      "PRODUCTIVITY : 345\n",
      "FINANCE : 328\n",
      "MEDICAL : 313\n",
      "SPORTS : 301\n",
      "PERSONALIZATION : 294\n",
      "COMMUNICATION : 287\n",
      "HEALTH_AND_FITNESS : 273\n",
      "PHOTOGRAPHY : 261\n",
      "NEWS_AND_MAGAZINES : 248\n",
      "SOCIAL : 236\n",
      "TRAVEL_AND_LOCAL : 207\n",
      "SHOPPING : 199\n",
      "BOOKS_AND_REFERENCE : 190\n",
      "DATING : 165\n",
      "VIDEO_PLAYERS : 159\n",
      "MAPS_AND_NAVIGATION : 124\n",
      "FOOD_AND_DRINK : 110\n",
      "EDUCATION : 103\n",
      "ENTERTAINMENT : 85\n",
      "LIBRARIES_AND_DEMO : 83\n",
      "AUTO_AND_VEHICLES : 82\n",
      "HOUSE_AND_HOME : 73\n",
      "WEATHER : 71\n",
      "EVENTS : 63\n",
      "PARENTING : 58\n",
      "ART_AND_DESIGN : 57\n",
      "COMICS : 55\n",
      "BEAUTY : 53\n"
     ]
    }
   ],
   "source": [
    "display_table(andriod_free, 1)\n"
   ]
  },
  {
   "cell_type": "markdown",
   "metadata": {},
   "source": [
    "### <span id='most-android-apps-by-genre'>Most Android Apps By Genre</span>\n"
   ]
  },
  {
   "cell_type": "code",
   "execution_count": 51,
   "metadata": {},
   "outputs": [
    {
     "name": "stdout",
     "output_type": "stream",
     "text": [
      "Tools : 749\n",
      "Entertainment : 538\n",
      "Education : 474\n",
      "Business : 407\n",
      "Productivity : 345\n",
      "Lifestyle : 345\n",
      "Finance : 328\n",
      "Medical : 313\n",
      "Sports : 307\n",
      "Personalization : 294\n",
      "Communication : 287\n",
      "Action : 275\n",
      "Health & Fitness : 273\n",
      "Photography : 261\n",
      "News & Magazines : 248\n",
      "Social : 236\n",
      "Travel & Local : 206\n",
      "Shopping : 199\n",
      "Books & Reference : 190\n",
      "Simulation : 181\n",
      "Dating : 165\n",
      "Arcade : 164\n",
      "Video Players & Editors : 157\n",
      "Casual : 156\n",
      "Maps & Navigation : 124\n",
      "Food & Drink : 110\n",
      "Puzzle : 100\n",
      "Racing : 88\n",
      "Role Playing : 83\n",
      "Libraries & Demo : 83\n",
      "Auto & Vehicles : 82\n",
      "Strategy : 81\n",
      "House & Home : 73\n",
      "Weather : 71\n",
      "Events : 63\n",
      "Adventure : 60\n",
      "Comics : 54\n",
      "Beauty : 53\n",
      "Art & Design : 53\n",
      "Parenting : 44\n",
      "Card : 40\n",
      "Casino : 38\n",
      "Trivia : 37\n",
      "Educational;Education : 35\n",
      "Board : 34\n",
      "Educational : 33\n",
      "Education;Education : 30\n",
      "Word : 23\n",
      "Casual;Pretend Play : 21\n",
      "Music : 18\n",
      "Racing;Action & Adventure : 15\n",
      "Puzzle;Brain Games : 15\n",
      "Entertainment;Music & Video : 15\n",
      "Casual;Brain Games : 12\n",
      "Casual;Action & Adventure : 12\n",
      "Arcade;Action & Adventure : 11\n",
      "Action;Action & Adventure : 9\n",
      "Educational;Pretend Play : 8\n",
      "Simulation;Action & Adventure : 7\n",
      "Parenting;Education : 7\n",
      "Entertainment;Brain Games : 7\n",
      "Board;Brain Games : 7\n",
      "Parenting;Music & Video : 6\n",
      "Educational;Brain Games : 6\n",
      "Casual;Creativity : 6\n",
      "Art & Design;Creativity : 6\n",
      "Education;Pretend Play : 5\n",
      "Role Playing;Pretend Play : 4\n",
      "Education;Creativity : 4\n",
      "Role Playing;Action & Adventure : 3\n",
      "Puzzle;Action & Adventure : 3\n",
      "Entertainment;Creativity : 3\n",
      "Entertainment;Action & Adventure : 3\n",
      "Educational;Creativity : 3\n",
      "Educational;Action & Adventure : 3\n",
      "Education;Music & Video : 3\n",
      "Education;Brain Games : 3\n",
      "Education;Action & Adventure : 3\n",
      "Adventure;Action & Adventure : 3\n",
      "Video Players & Editors;Music & Video : 2\n",
      "Sports;Action & Adventure : 2\n",
      "Simulation;Pretend Play : 2\n",
      "Puzzle;Creativity : 2\n",
      "Music;Music & Video : 2\n",
      "Entertainment;Pretend Play : 2\n",
      "Casual;Education : 2\n",
      "Board;Action & Adventure : 2\n",
      "Video Players & Editors;Creativity : 1\n",
      "Trivia;Education : 1\n",
      "Travel & Local;Action & Adventure : 1\n",
      "Tools;Education : 1\n",
      "Strategy;Education : 1\n",
      "Strategy;Creativity : 1\n",
      "Strategy;Action & Adventure : 1\n",
      "Simulation;Education : 1\n",
      "Role Playing;Brain Games : 1\n",
      "Racing;Pretend Play : 1\n",
      "Puzzle;Education : 1\n",
      "Parenting;Brain Games : 1\n",
      "Music & Audio;Music & Video : 1\n",
      "Lifestyle;Pretend Play : 1\n",
      "Lifestyle;Education : 1\n",
      "Health & Fitness;Education : 1\n",
      "Health & Fitness;Action & Adventure : 1\n",
      "Entertainment;Education : 1\n",
      "Communication;Creativity : 1\n",
      "Comics;Creativity : 1\n",
      "Casual;Music & Video : 1\n",
      "Card;Action & Adventure : 1\n",
      "Books & Reference;Education : 1\n",
      "Art & Design;Pretend Play : 1\n",
      "Art & Design;Action & Adventure : 1\n",
      "Arcade;Pretend Play : 1\n",
      "Adventure;Education : 1\n"
     ]
    }
   ],
   "source": [
    "display_table(andriod_free, 9)\n"
   ]
  },
  {
   "cell_type": "markdown",
   "metadata": {},
   "source": [
    "<!-- todo write up findings for above code -->\n",
    "\n",
    "### <span id='average-popularity-by-type-helper'>average_popularity_by_type `Helper`</span>\n",
    "\n",
    "**DESCRIPTION**  \n",
    "This funciton takes in a dataset, type index, and popularity index, and returns the average popularity (measured in the popularity index column) for each unique item in the type index column.\n",
    "\n",
    "<!-- todo write up steps for function -->\n",
    "\n",
    "**PARAMETERS**  \n",
    "`dataset` | list of lists | the dataset to explore  \n",
    "`type_idx` | int | The column index for the item to determine their average popularities  \n",
    "`popularity_idx` | int | The column index for the 'popularity' of each item in the 'type' column\n",
    "\n",
    "**RETURNS**\n",
    "sorted list of tuples | each tuple has the average popularity and the name of that item\n",
    "\n",
    "### Most Apps By Genre\n",
    "\n",
    "There is a very interesting split here between Apple and Andriod. Apple very clearly has the majority of it's applications (english, and free) as games. Android on the other hand has more balance at the top.\n"
   ]
  },
  {
   "cell_type": "code",
   "execution_count": 54,
   "metadata": {},
   "outputs": [
    {
     "name": "stdout",
     "output_type": "stream",
     "text": [
      "Navigation : 86090.33333333333\n",
      "Reference : 74942.11111111111\n",
      "Social Networking : 71548.34905660378\n",
      "Music : 57326.530303030304\n",
      "Weather : 52279.892857142855\n",
      "Book : 39758.5\n",
      "Food & Drink : 33333.92307692308\n",
      "Finance : 31467.944444444445\n",
      "Photo & Video : 28441.54375\n",
      "Travel : 28243.8\n",
      "Shopping : 26919.690476190477\n",
      "Health & Fitness : 23298.015384615384\n",
      "Sports : 23008.898550724636\n",
      "Games : 22788.6696905016\n",
      "News : 21248.023255813954\n",
      "Productivity : 21028.410714285714\n",
      "Utilities : 18684.456790123455\n",
      "Lifestyle : 16485.764705882353\n",
      "Entertainment : 14029.830708661417\n",
      "Business : 7491.117647058823\n",
      "Education : 7003.983050847458\n",
      "Catalogs : 4004.0\n",
      "Medical : 612.0\n"
     ]
    }
   ],
   "source": [
    "def average_popularity_by_type(dataset, type_idx, popularity_idx):\n",
    "    type_dict = {}\n",
    "\n",
    "    for row in dataset:\n",
    "        type_name = row[type_idx]\n",
    "        popularity = float(row[popularity_idx])\n",
    "\n",
    "        if type_name not in type_dict:\n",
    "            type_dict[type_name] = {'len': 1, 'popularity': popularity}\n",
    "        else:\n",
    "            type_dict[type_name]['len'] += 1\n",
    "            type_dict[type_name]['popularity'] += popularity\n",
    "\n",
    "    def create_tuple(table, key):\n",
    "        len = table[key]['len']\n",
    "        popularity = table[key]['popularity']\n",
    "        return (popularity / len, key)\n",
    "\n",
    "    return create_sorted_tuple_list(type_dict, create_tuple)\n",
    "\n",
    "\n",
    "popular_ios_genres = average_popularity_by_type(ios_free, 12, 6)\n",
    "\n",
    "for row in popular_ios_genres:\n",
    "    [average_popularity, genre] = row\n",
    "    print('{} : {}'.format(genre, average_popularity))\n"
   ]
  },
  {
   "cell_type": "markdown",
   "metadata": {},
   "source": [
    "## Top 10 `Helpers`\n",
    "\n",
    "`get_top_10_of_type` returns the top 10 most popular items of a given type  \n",
    "`print_top_10` prints a helpful string indicating the type and then prints each line in the list (formatted for ease of reading)\n"
   ]
  },
  {
   "cell_type": "code",
   "execution_count": 34,
   "metadata": {},
   "outputs": [],
   "source": [
    "def get_top_10_of_type(dataset, type_name, type_name_idx, popularity_idx, thing_name_index):\n",
    "    type_list = []\n",
    "\n",
    "    for row in dataset:\n",
    "        curr_name = row[type_name_idx]\n",
    "        if type_name == curr_name:\n",
    "            popularity = float(row[popularity_idx])\n",
    "            type_list.append((popularity, row[thing_name_index]))\n",
    "\n",
    "    sorted_list = sorted(type_list, reverse=True)\n",
    "    return sorted_list[:10]\n",
    "\n",
    "\n",
    "def print_top_10(top_10, type_name, platform):\n",
    "    print('Top 10 {} {} Apps'.format(type_name, platform))\n",
    "\n",
    "    for [popularity, name] in top_10:\n",
    "        print('{} : {}'.format(name, popularity))\n"
   ]
  },
  {
   "cell_type": "code",
   "execution_count": 35,
   "metadata": {},
   "outputs": [
    {
     "name": "stdout",
     "output_type": "stream",
     "text": [
      "Top 10 Navigation iOS Apps\n",
      "Waze - GPS Navigation, Maps & Real-time Traffic : 345046.0\n",
      "Google Maps - Navigation & Transit : 154911.0\n",
      "Geocaching® : 12811.0\n",
      "CoPilot GPS – Car Navigation & Offline Maps : 3582.0\n",
      "ImmobilienScout24: Real Estate Search in Germany : 187.0\n",
      "Railway Route Search : 5.0\n"
     ]
    }
   ],
   "source": [
    "top_10_ios_nav = get_top_10_of_type(ios_free, 'Navigation', 12, 6, 2)\n",
    "print_top_10(top_10_ios_nav, 'Navigation', 'iOS')\n"
   ]
  },
  {
   "cell_type": "code",
   "execution_count": 46,
   "metadata": {},
   "outputs": [
    {
     "name": "stdout",
     "output_type": "stream",
     "text": [
      "Top 10 Reference iOS Apps\n",
      "92774400 : 985920.0\n",
      "111275008 : 200047.0\n",
      "165748736 : 54175.0\n",
      "65281024 : 26786.0\n",
      "100551680 : 18418.0\n",
      "52959232 : 17588.0\n",
      "155593728 : 16849.0\n",
      "596499456 : 12122.0\n",
      "90124288 : 8535.0\n",
      "86874112 : 4693.0\n"
     ]
    }
   ],
   "source": [
    "top_10_ios_reference = get_top_10_of_type(ios_free, 'Reference', 12, 6, 3)\n",
    "print_top_10(top_10_ios_reference, 'Reference', 'iOS')\n"
   ]
  },
  {
   "cell_type": "code",
   "execution_count": null,
   "metadata": {},
   "outputs": [],
   "source": []
  }
 ],
 "metadata": {
  "interpreter": {
   "hash": "1fba29797cb5cf0d1621f845ab846fa6622958e8fb69966f58cf3de8cac28f77"
  },
  "kernelspec": {
   "display_name": "Python 3.8.8 64-bit ('base': conda)",
   "language": "python",
   "name": "python3"
  },
  "language_info": {
   "codemirror_mode": {
    "name": "ipython",
    "version": 3
   },
   "file_extension": ".py",
   "mimetype": "text/x-python",
   "name": "python",
   "nbconvert_exporter": "python",
   "pygments_lexer": "ipython3",
   "version": "3.8.8"
  },
  "orig_nbformat": 4
 },
 "nbformat": 4,
 "nbformat_minor": 2
}
