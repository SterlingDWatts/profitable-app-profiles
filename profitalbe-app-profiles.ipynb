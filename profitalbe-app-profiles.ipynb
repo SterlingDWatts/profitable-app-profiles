{
 "cells": [
  {
   "cell_type": "markdown",
   "metadata": {},
   "source": [
    "# Profitable App Profiles for the App Store and Google Play Markets\n",
    "\n",
    "## Business Problem\n",
    "We are intending on building a new app that will be free to users and will contain adds. Our goal is to maximize our revenue with this app. Due to our method of monitization, the app will make more money the more users use the app and engage with the adds. We would like to discover what types of apps have the most amount of users so that we can have better information when we are deciding what type of app we would like to make.\n",
    "\n",
    "## Solution\n",
    "Investigate a dataset of current apps on both the App Store and the Google Play Markets. Determine what types of apps have the most users."
   ]
  },
  {
   "cell_type": "code",
   "execution_count": null,
   "metadata": {},
   "outputs": [],
   "source": []
  }
 ],
 "metadata": {
  "interpreter": {
   "hash": "1fba29797cb5cf0d1621f845ab846fa6622958e8fb69966f58cf3de8cac28f77"
  },
  "kernelspec": {
   "display_name": "Python 3.8.8 64-bit ('base': conda)",
   "language": "python",
   "name": "python3"
  },
  "language_info": {
   "name": "python",
   "version": "3.8.8"
  },
  "orig_nbformat": 4
 },
 "nbformat": 4,
 "nbformat_minor": 2
}
